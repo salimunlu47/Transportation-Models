{
  "nbformat": 4,
  "nbformat_minor": 0,
  "metadata": {
    "colab": {
      "name": "Handy-Taha_MG Transportation Model.ipynb",
      "provenance": [],
      "authorship_tag": "ABX9TyOuEpDO4g8isnmBu/GjV+bb",
      "include_colab_link": true
    },
    "kernelspec": {
      "name": "python3",
      "display_name": "Python 3"
    },
    "language_info": {
      "name": "python"
    }
  },
  "cells": [
    {
      "cell_type": "markdown",
      "metadata": {
        "id": "view-in-github",
        "colab_type": "text"
      },
      "source": [
        "<a href=\"https://colab.research.google.com/github/salimunlu47/Transportation-Models/blob/main/Handy_Taha_MG_Transportation_Model.ipynb\" target=\"_parent\"><img src=\"https://colab.research.google.com/assets/colab-badge.svg\" alt=\"Open In Colab\"/></a>"
      ]
    },
    {
      "cell_type": "code",
      "metadata": {
        "id": "JxT7PCDlenw6"
      },
      "source": [
        "!pip install --upgrade quantecon"
      ],
      "execution_count": null,
      "outputs": []
    },
    {
      "cell_type": "code",
      "metadata": {
        "colab": {
          "base_uri": "https://localhost:8080/"
        },
        "id": "XMM9nbxjeogm",
        "outputId": "9ffdd885-ef3b-40bb-df3f-ea5150b36e7e"
      },
      "source": [
        "import numpy as np\n",
        "from scipy.optimize import linprog\n",
        "from quantecon.optimize import linprog_simplex"
      ],
      "execution_count": null,
      "outputs": [
        {
          "output_type": "stream",
          "name": "stderr",
          "text": [
            "/usr/local/lib/python3.7/dist-packages/numba/np/ufunc/parallel.py:363: NumbaWarning: The TBB threading layer requires TBB version 2019.5 or later i.e., TBB_INTERFACE_VERSION >= 11005. Found TBB_INTERFACE_VERSION = 9107. The TBB threading layer is disabled.\n",
            "  warnings.warn(problem)\n"
          ]
        }
      ]
    },
    {
      "cell_type": "markdown",
      "metadata": {
        "id": "QxiyBB59aG3Z"
      },
      "source": [
        "**Example 5.1-1**\n",
        "\n",
        "MG Auto has three plants in *Los Angeles*, *Detroit*, and *New Orleans* and two major distribution centers in *Denver* and *Miami*. \n",
        "\n",
        "The quarterly capacities of the three plants are 1000, 1500, and 1200 cars, and the demands at the two distribution centers for the same period are 2300 and 1400 cars. \n",
        "\n",
        "The mileage chart between the plants and the distribution centers is given in Table 5.1."
      ]
    },
    {
      "cell_type": "markdown",
      "metadata": {
        "id": "Gbi4bFefau7K"
      },
      "source": [
        "![image.png](data:image/png;base64,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)"
      ]
    },
    {
      "cell_type": "code",
      "metadata": {
        "colab": {
          "base_uri": "https://localhost:8080/"
        },
        "id": "MNLp2EOves6b",
        "outputId": "f2c7d800-e6d3-462e-c4bb-c39fff0cd704"
      },
      "source": [
        "# Define parameters\n",
        "m = 3\n",
        "n = 2\n",
        "\n",
        "p = np.array([1000, 1500, 1200])\n",
        "q = np.array([2300, 1400])\n",
        "\n",
        "C = np.array([[80,  215],\n",
        "              [100, 108],\n",
        "              [102, 68]])\n",
        "\n",
        "# Vectorize matrix C\n",
        "C_vec = C.reshape((m*n, 1), order='F')\n",
        "\n",
        "# Construct matrix A by Kronecker product\n",
        "A1 = np.kron(np.ones((1, n)), np.identity(m))\n",
        "A2 = np.kron(np.identity(n), np.ones((1, m)))\n",
        "A = np.vstack([A1, A2])\n",
        "\n",
        "# Construct vector b\n",
        "b = np.hstack([p, q])\n",
        "\n",
        "# Solve the primal problem\n",
        "res = linprog(C_vec, A_eq=A, b_eq=b, method='Revised simplex')\n",
        "\n",
        "# Print results\n",
        "print(\"message:\", res.message)\n",
        "print(\"nit:\", res.nit)\n",
        "print(\"fun:\", res.fun)\n",
        "print(\"z:\", res.x)\n",
        "print(\"X:\", res.x.reshape((m,n), order='F'))"
      ],
      "execution_count": null,
      "outputs": [
        {
          "output_type": "stream",
          "name": "stdout",
          "text": [
            "message: Optimization terminated successfully.\n",
            "nit: 4\n",
            "fun: 313200.0\n",
            "z: [1000. 1300.    0.    0.  200. 1200.]\n",
            "X: [[1000.    0.]\n",
            " [1300.  200.]\n",
            " [   0. 1200.]]\n"
          ]
        },
        {
          "output_type": "stream",
          "name": "stderr",
          "text": [
            "/usr/local/lib/python3.7/dist-packages/ipykernel_launcher.py:24: OptimizeWarning: A_eq does not appear to be of full row rank. To improve performance, check the problem formulation for redundant equality constraints.\n"
          ]
        }
      ]
    },
    {
      "cell_type": "code",
      "metadata": {
        "id": "vA-dLedFfc2G"
      },
      "source": [
        ""
      ],
      "execution_count": null,
      "outputs": []
    }
  ]
}