{
  "nbformat": 4,
  "nbformat_minor": 0,
  "metadata": {
    "colab": {
      "name": "Handy-Taha_MG Transportation Model.ipynb",
      "provenance": [],
      "authorship_tag": "ABX9TyM3pBEBNvXhcO1DAJNL/KZg",
      "include_colab_link": true
    },
    "kernelspec": {
      "name": "python3",
      "display_name": "Python 3"
    },
    "language_info": {
      "name": "python"
    }
  },
  "cells": [
    {
      "cell_type": "markdown",
      "metadata": {
        "id": "view-in-github",
        "colab_type": "text"
      },
      "source": [
        "<a href=\"https://colab.research.google.com/github/salimunlu47/Transportation-Models/blob/main/Handy_Taha_MG_Transportation_Model.ipynb\" target=\"_parent\"><img src=\"https://colab.research.google.com/assets/colab-badge.svg\" alt=\"Open In Colab\"/></a>"
      ]
    },
    {
      "cell_type": "code",
      "metadata": {
        "colab": {
          "base_uri": "https://localhost:8080/"
        },
        "id": "JxT7PCDlenw6",
        "outputId": "82300d53-e850-4f8a-8005-2613c48b6de8"
      },
      "source": [
        "!pip install --upgrade quantecon"
      ],
      "execution_count": 1,
      "outputs": [
        {
          "output_type": "stream",
          "name": "stdout",
          "text": [
            "Collecting quantecon\n",
            "  Downloading quantecon-0.5.2-py3-none-any.whl (269 kB)\n",
            "\u001b[?25l\r\u001b[K     |█▏                              | 10 kB 26.7 MB/s eta 0:00:01\r\u001b[K     |██▍                             | 20 kB 29.1 MB/s eta 0:00:01\r\u001b[K     |███▋                            | 30 kB 33.8 MB/s eta 0:00:01\r\u001b[K     |████▉                           | 40 kB 31.6 MB/s eta 0:00:01\r\u001b[K     |██████                          | 51 kB 29.1 MB/s eta 0:00:01\r\u001b[K     |███████▎                        | 61 kB 29.2 MB/s eta 0:00:01\r\u001b[K     |████████▌                       | 71 kB 23.9 MB/s eta 0:00:01\r\u001b[K     |█████████▊                      | 81 kB 22.6 MB/s eta 0:00:01\r\u001b[K     |███████████                     | 92 kB 22.1 MB/s eta 0:00:01\r\u001b[K     |████████████▏                   | 102 kB 22.9 MB/s eta 0:00:01\r\u001b[K     |█████████████▍                  | 112 kB 22.9 MB/s eta 0:00:01\r\u001b[K     |██████████████▋                 | 122 kB 22.9 MB/s eta 0:00:01\r\u001b[K     |███████████████▉                | 133 kB 22.9 MB/s eta 0:00:01\r\u001b[K     |█████████████████               | 143 kB 22.9 MB/s eta 0:00:01\r\u001b[K     |██████████████████▎             | 153 kB 22.9 MB/s eta 0:00:01\r\u001b[K     |███████████████████▌            | 163 kB 22.9 MB/s eta 0:00:01\r\u001b[K     |████████████████████▊           | 174 kB 22.9 MB/s eta 0:00:01\r\u001b[K     |██████████████████████          | 184 kB 22.9 MB/s eta 0:00:01\r\u001b[K     |███████████████████████▏        | 194 kB 22.9 MB/s eta 0:00:01\r\u001b[K     |████████████████████████▍       | 204 kB 22.9 MB/s eta 0:00:01\r\u001b[K     |█████████████████████████▋      | 215 kB 22.9 MB/s eta 0:00:01\r\u001b[K     |██████████████████████████▉     | 225 kB 22.9 MB/s eta 0:00:01\r\u001b[K     |████████████████████████████    | 235 kB 22.9 MB/s eta 0:00:01\r\u001b[K     |█████████████████████████████▏  | 245 kB 22.9 MB/s eta 0:00:01\r\u001b[K     |██████████████████████████████▍ | 256 kB 22.9 MB/s eta 0:00:01\r\u001b[K     |███████████████████████████████▋| 266 kB 22.9 MB/s eta 0:00:01\r\u001b[K     |████████████████████████████████| 269 kB 22.9 MB/s \n",
            "\u001b[?25hRequirement already satisfied: scipy>=1.0.0 in /usr/local/lib/python3.7/dist-packages (from quantecon) (1.4.1)\n",
            "Requirement already satisfied: requests in /usr/local/lib/python3.7/dist-packages (from quantecon) (2.23.0)\n",
            "Requirement already satisfied: numpy in /usr/local/lib/python3.7/dist-packages (from quantecon) (1.19.5)\n",
            "Requirement already satisfied: numba>=0.38 in /usr/local/lib/python3.7/dist-packages (from quantecon) (0.51.2)\n",
            "Requirement already satisfied: sympy in /usr/local/lib/python3.7/dist-packages (from quantecon) (1.7.1)\n",
            "Requirement already satisfied: llvmlite<0.35,>=0.34.0.dev0 in /usr/local/lib/python3.7/dist-packages (from numba>=0.38->quantecon) (0.34.0)\n",
            "Requirement already satisfied: setuptools in /usr/local/lib/python3.7/dist-packages (from numba>=0.38->quantecon) (57.4.0)\n",
            "Requirement already satisfied: chardet<4,>=3.0.2 in /usr/local/lib/python3.7/dist-packages (from requests->quantecon) (3.0.4)\n",
            "Requirement already satisfied: urllib3!=1.25.0,!=1.25.1,<1.26,>=1.21.1 in /usr/local/lib/python3.7/dist-packages (from requests->quantecon) (1.24.3)\n",
            "Requirement already satisfied: certifi>=2017.4.17 in /usr/local/lib/python3.7/dist-packages (from requests->quantecon) (2021.10.8)\n",
            "Requirement already satisfied: idna<3,>=2.5 in /usr/local/lib/python3.7/dist-packages (from requests->quantecon) (2.10)\n",
            "Requirement already satisfied: mpmath>=0.19 in /usr/local/lib/python3.7/dist-packages (from sympy->quantecon) (1.2.1)\n",
            "Installing collected packages: quantecon\n",
            "Successfully installed quantecon-0.5.2\n"
          ]
        }
      ]
    },
    {
      "cell_type": "code",
      "metadata": {
        "colab": {
          "base_uri": "https://localhost:8080/"
        },
        "id": "XMM9nbxjeogm",
        "outputId": "9ffdd885-ef3b-40bb-df3f-ea5150b36e7e"
      },
      "source": [
        "import numpy as np\n",
        "from scipy.optimize import linprog\n",
        "from quantecon.optimize import linprog_simplex"
      ],
      "execution_count": 2,
      "outputs": [
        {
          "output_type": "stream",
          "name": "stderr",
          "text": [
            "/usr/local/lib/python3.7/dist-packages/numba/np/ufunc/parallel.py:363: NumbaWarning: The TBB threading layer requires TBB version 2019.5 or later i.e., TBB_INTERFACE_VERSION >= 11005. Found TBB_INTERFACE_VERSION = 9107. The TBB threading layer is disabled.\n",
            "  warnings.warn(problem)\n"
          ]
        }
      ]
    },
    {
      "cell_type": "code",
      "metadata": {
        "colab": {
          "base_uri": "https://localhost:8080/"
        },
        "id": "MNLp2EOves6b",
        "outputId": "f2c7d800-e6d3-462e-c4bb-c39fff0cd704"
      },
      "source": [
        "# Define parameters\n",
        "m = 3\n",
        "n = 2\n",
        "\n",
        "p = np.array([1000, 1500, 1200])\n",
        "q = np.array([2300, 1400])\n",
        "\n",
        "C = np.array([[80,  215],\n",
        "              [100, 108],\n",
        "              [102, 68]])\n",
        "\n",
        "# Vectorize matrix C\n",
        "C_vec = C.reshape((m*n, 1), order='F')\n",
        "\n",
        "# Construct matrix A by Kronecker product\n",
        "A1 = np.kron(np.ones((1, n)), np.identity(m))\n",
        "A2 = np.kron(np.identity(n), np.ones((1, m)))\n",
        "A = np.vstack([A1, A2])\n",
        "\n",
        "# Construct vector b\n",
        "b = np.hstack([p, q])\n",
        "\n",
        "# Solve the primal problem\n",
        "res = linprog(C_vec, A_eq=A, b_eq=b, method='Revised simplex')\n",
        "\n",
        "# Print results\n",
        "print(\"message:\", res.message)\n",
        "print(\"nit:\", res.nit)\n",
        "print(\"fun:\", res.fun)\n",
        "print(\"z:\", res.x)\n",
        "print(\"X:\", res.x.reshape((m,n), order='F'))"
      ],
      "execution_count": 3,
      "outputs": [
        {
          "output_type": "stream",
          "name": "stdout",
          "text": [
            "message: Optimization terminated successfully.\n",
            "nit: 4\n",
            "fun: 313200.0\n",
            "z: [1000. 1300.    0.    0.  200. 1200.]\n",
            "X: [[1000.    0.]\n",
            " [1300.  200.]\n",
            " [   0. 1200.]]\n"
          ]
        },
        {
          "output_type": "stream",
          "name": "stderr",
          "text": [
            "/usr/local/lib/python3.7/dist-packages/ipykernel_launcher.py:24: OptimizeWarning: A_eq does not appear to be of full row rank. To improve performance, check the problem formulation for redundant equality constraints.\n"
          ]
        }
      ]
    },
    {
      "cell_type": "code",
      "metadata": {
        "id": "vA-dLedFfc2G"
      },
      "source": [
        ""
      ],
      "execution_count": null,
      "outputs": []
    }
  ]
}